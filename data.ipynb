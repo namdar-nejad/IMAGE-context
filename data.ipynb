{
 "cells": [
  {
   "cell_type": "code",
   "execution_count": 1,
   "id": "2e38bdac",
   "metadata": {},
   "outputs": [],
   "source": [
    "# import sys\n",
    "# !{sys.executable} -m pip install --user Html2Image"
   ]
  },
  {
   "cell_type": "code",
   "execution_count": 2,
   "id": "dd3e4766",
   "metadata": {},
   "outputs": [],
   "source": [
    "FILE_DIR = './dataset'\n",
    "DATA_DIR = './collected_data'"
   ]
  },
  {
   "cell_type": "code",
   "execution_count": 3,
   "id": "85e31608",
   "metadata": {},
   "outputs": [],
   "source": [
    "import os\n",
    "import json\n",
    "import imgkit\n",
    "import base64\n",
    "from IPython.core.display import display, HTML\n",
    "from html2image import Html2Image\n",
    "from bs4 import BeautifulSoup"
   ]
  },
  {
   "cell_type": "code",
   "execution_count": 4,
   "id": "80299b25",
   "metadata": {},
   "outputs": [],
   "source": [
    "def get_files():\n",
    "    path = os.path.abspath(FILE_DIR)\n",
    "    return os.listdir(path)"
   ]
  },
  {
   "cell_type": "code",
   "execution_count": 5,
   "id": "4b454316",
   "metadata": {},
   "outputs": [],
   "source": [
    "def get_json(file_name):\n",
    "    file_path = os.path.abspath(FILE_DIR+\"/\"+file_name)\n",
    "    \n",
    "    with open(file_path, \"r\") as file:\n",
    "        return json.load(file)"
   ]
  },
  {
   "cell_type": "code",
   "execution_count": 6,
   "id": "938c15f2",
   "metadata": {},
   "outputs": [],
   "source": [
    "def get_alt(json_):\n",
    "    context = json_['context']\n",
    "    soup = BeautifulSoup(context, 'html.parser')\n",
    "    alt = soup.find('img', alt=True)['alt']\n",
    "    return alt"
   ]
  },
  {
   "cell_type": "code",
   "execution_count": 7,
   "id": "f6c4099f",
   "metadata": {},
   "outputs": [],
   "source": [
    "def get_img_html(img_):\n",
    "    return f\"<html> <body> <img src=\\\"{img_}\\\"> </body> </html>\"\n",
    "\n",
    "def display_img(html_):\n",
    "    display(HTML(html_))\n",
    "    \n",
    "def save_pic(html_, name, path = f\"{DATA_DIR}/images/\"):\n",
    "    hti = Html2Image()\n",
    "    path_ = os.path.abspath(path)\n",
    "    hti._output_path = path_\n",
    "    hti.screenshot(html_str=html_, save_as=name)"
   ]
  },
  {
   "cell_type": "code",
   "execution_count": 23,
   "id": "f7723649",
   "metadata": {},
   "outputs": [],
   "source": [
    "def validateJSON(path):\n",
    "    return path.endswith(\".json\")"
   ]
  },
  {
   "cell_type": "code",
   "execution_count": 29,
   "id": "4b71c2ed",
   "metadata": {},
   "outputs": [],
   "source": [
    "def go(dir_=FILE_DIR):\n",
    "    files = get_files()\n",
    "    captions = {}\n",
    "    \n",
    "    for file, ind in zip(get_files(), range(1, len(files)+1)):\n",
    "        print(f\"{ind}: {file} {validateJSON(file)}\")\n",
    "        \n",
    "        if validateJSON(file):\n",
    "            name_ = f'image{ind}.jpg'\n",
    "            json_ = get_json(file)\n",
    "            html_ = get_img_html(json_['graphic'])\n",
    "            txt = get_alt(json_)\n",
    "            \n",
    "            if len(txt) > 5:\n",
    "                captions[name_] = txt\n",
    "                save_pic(html_, name_)\n",
    "    \n",
    "    with open(f\"{DATA_DIR}/captions.json\", \"w\") as outfile:\n",
    "        json.dump(captions, outfile)"
   ]
  },
  {
   "cell_type": "code",
   "execution_count": null,
   "id": "473fb5db",
   "metadata": {},
   "outputs": [],
   "source": []
  },
  {
   "cell_type": "code",
   "execution_count": null,
   "id": "b85f6249",
   "metadata": {},
   "outputs": [],
   "source": []
  }
 ],
 "metadata": {
  "kernelspec": {
   "display_name": "Python 3 (ipykernel)",
   "language": "python",
   "name": "python3"
  },
  "language_info": {
   "codemirror_mode": {
    "name": "ipython",
    "version": 3
   },
   "file_extension": ".py",
   "mimetype": "text/x-python",
   "name": "python",
   "nbconvert_exporter": "python",
   "pygments_lexer": "ipython3",
   "version": "3.9.1"
  }
 },
 "nbformat": 4,
 "nbformat_minor": 5
}
