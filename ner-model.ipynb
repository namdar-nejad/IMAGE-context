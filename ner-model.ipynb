{
 "cells": [
  {
   "cell_type": "code",
   "execution_count": 1,
   "id": "3e5ff704",
   "metadata": {},
   "outputs": [],
   "source": [
    "import nltk\n",
    "from nltk.tokenize import word_tokenize\n",
    "from nltk.tag.stanford import StanfordNERTagger\n",
    "from nltk.tag import pos_tag"
   ]
  },
  {
   "cell_type": "code",
   "execution_count": 2,
   "id": "e3c466b3",
   "metadata": {},
   "outputs": [],
   "source": [
    "jar = './stanford-ner/stanford-ner.jar'\n",
    "model = './stanford-ner/ner-model-english.ser.gz'"
   ]
  },
  {
   "cell_type": "code",
   "execution_count": 3,
   "id": "2c7ed780",
   "metadata": {},
   "outputs": [
    {
     "name": "stderr",
     "output_type": "stream",
     "text": [
      "[nltk_data] Downloading package punkt to /Users/namdar/nltk_data...\n",
      "[nltk_data]   Package punkt is already up-to-date!\n",
      "[nltk_data] Downloading package stopwords to\n",
      "[nltk_data]     /Users/namdar/nltk_data...\n",
      "[nltk_data]   Package stopwords is already up-to-date!\n",
      "[nltk_data] Downloading package averaged_perceptron_tagger to\n",
      "[nltk_data]     /Users/namdar/nltk_data...\n",
      "[nltk_data]   Package averaged_perceptron_tagger is already up-to-\n",
      "[nltk_data]       date!\n",
      "[nltk_data] Downloading package maxent_ne_chunker to\n",
      "[nltk_data]     /Users/namdar/nltk_data...\n",
      "[nltk_data]   Package maxent_ne_chunker is already up-to-date!\n",
      "[nltk_data] Downloading package words to /Users/namdar/nltk_data...\n",
      "[nltk_data]   Package words is already up-to-date!\n"
     ]
    },
    {
     "data": {
      "text/plain": [
       "True"
      ]
     },
     "execution_count": 3,
     "metadata": {},
     "output_type": "execute_result"
    }
   ],
   "source": [
    "nltk.download('punkt')\n",
    "nltk.download('stopwords')\n",
    "nltk.download('averaged_perceptron_tagger')\n",
    "nltk.download('maxent_ne_chunker')\n",
    "nltk.download('words')"
   ]
  },
  {
   "cell_type": "code",
   "execution_count": 4,
   "id": "b0cc6aa9",
   "metadata": {},
   "outputs": [],
   "source": [
    "def preprocess(sent):\n",
    "    sent = nltk.word_tokenize(sent)\n",
    "    sent = nltk.pos_tag(sent)\n",
    "    return sent"
   ]
  },
  {
   "cell_type": "code",
   "execution_count": 5,
   "id": "e0695059",
   "metadata": {},
   "outputs": [],
   "source": [
    "# for sent in nltk.sent_tokenize(sentence):\n",
    "#     for chunk in nltk.ne_chunk(nltk.pos_tag(nltk.word_tokenize(sent))):\n",
    "#          print(chunk)"
   ]
  },
  {
   "cell_type": "code",
   "execution_count": 47,
   "id": "fbc3a688",
   "metadata": {},
   "outputs": [],
   "source": [
    "def extract_ne(quote):\n",
    "    words = word_tokenize(quote)\n",
    "    tags = nltk.pos_tag(words)\n",
    "    tree = nltk.ne_chunk(tags, binary=True)\n",
    "    rtn  = []\n",
    "    \n",
    "    for t in tree:\n",
    "        if hasattr(t, \"label\") and t.label() == \"NE\":\n",
    "             rtn.append(i for i in t)\n",
    "    \n",
    "    return rtn"
   ]
  },
  {
   "cell_type": "code",
   "execution_count": 9,
   "id": "a5e8467d",
   "metadata": {},
   "outputs": [],
   "source": [
    "captions = {\"image1\": \"Coronaviruses 004 lores.jpg\", \"image2\": \"Colour-coded map of North America showing the distribution of North American language families north of Mexico\", \"image5\": \"Refer to caption\", \"image8\": \"Map showing Canada divided into different ecozones\", \"image12\": \"Tidal flooding. Sea-level rise increases flooding in low-lying coastal regions. Shown: Venice, Italy (2004).[210]\", \"image14\": \"refer to caption\", \"image23\": \"Canadian Delegation to the United Nations seated around conference table\", \"image24\": \"2020 Democratic presidential primary and caucus calendar rescheduled.svg\", \"image25\": \"Star Wars The Rise of Skywalker poster.jpg\", \"image26\": \"Aerial view of the Cliff Palace\", \"image32\": \"Muslim Youth League CAA, NRC Protest in Kerala 2019.jpg\", \"image33\": \"49ers uniforms 18.png\", \"image39\": \"The Grand Concourse in the Bronx, foreground, with Manhattan in the background in February 2018\", \"image41\": \"The YouTube logo is made of a red round-rectangular box with a white \\\"play\\\" button inside and the word \\\"YouTube\\\" written in black.\", \"image45\": \"Musk shakes hands with NASA Administrator Charles Bolden before a SpaceX Dragon capsule\", \"image46\": \"Canadian Senate chamber long hall with two opposing banks of seats with historical paintings\", \"image53\": \"The graph from 1880 to 2020 shows natural drivers exhibiting fluctuations of about 0.3 degrees Celsius. Human drivers steadily increase by 0.3 degrees over 100 years to 1980, then steeply by 0.8 degrees more over the past 40 years.\", \"image56\": \"A building with a central clock tower rising from a block\", \"image58\": \"Environmental migration. Sparser rainfall leads to desertification that harms agriculture and can displace populations. Shown: Telly, Mali (2008).[208]\", \"image60\": \"Coca-Cola bottle - see \\\"Contour bottle design\\\" section\", \"image61\": \"Each letter of \\\"Google\\\" is colored (from left to right) in blue, red, yellow, blue, green, and red.\", \"image62\": \"A corrugated silver metal subway train sits with its doors open in a station. Its rollsign reads \\\"0 Local / To Old Gotham all times / Downtown & Tricorner\\\".\", \"image63\": \"First Lady Michelle Obama, Mel Brooks, Dave Brubeck, Grace Bumbry, De Niro, Bruce Springsteen, and President Barack Obama\", \"image64\": \"Photograph of a large area of forest. The green trees are interspersed with large patches of damaged or dead trees turning purple-brown and light red.\", \"image65\": \"see caption\", \"image70\": \"Uniform Set of the Kansas City Chiefs.svg\", \"image72\": \"The Joker dances on a set of stairs. Below him are the words \\\"Joaquin Phoenix\\\", \\\"A Todd Phillips film\\\", \\\"Joker\\\", the billing block, and \\\"October 4\\\".\", \"image76\": \"Illustration of a SARS-CoV-2 virion\", \"image77\": \"The global map shows sea temperature rises of 0.5 to 1 degree Celsius; land temperature rises of 1 to 2 degree Celsius; and Arctic temperature rises of up to 4 degrees Celsius.\", \"image78\": \"Olympic rings.svg\", \"image84\": \"A map showing five boroughs in different colors.\", \"image90\": \"A large facade of a building\", \"image91\": \"See caption\", \"image94\": \"refer to caption\", \"image97\": \"Amazon.es fulfillment center in San Fernando de Henares, Spain\", \"image100\": \"An incomplete sphere made of large, white jigsaw puzzle pieces. Each puzzle piece contains one\"}"
   ]
  },
  {
   "cell_type": "code",
   "execution_count": 38,
   "id": "a3ebffcc",
   "metadata": {},
   "outputs": [],
   "source": [
    "def stanford_ner(sentence):\n",
    "    \n",
    "    # Prepare NER tagger with english model\n",
    "    ner_tagger = StanfordNERTagger(model, jar, encoding='utf8')\n",
    "\n",
    "    # Tokenize: Split sentence into words\n",
    "    words = nltk.word_tokenize(sentence)\n",
    "\n",
    "    # Run NER tagger on words\n",
    "    print(ner_tagger.tag(words))"
   ]
  },
  {
   "cell_type": "code",
   "execution_count": 39,
   "id": "c490cf5c",
   "metadata": {},
   "outputs": [],
   "source": [
    "sentence = captions['image77']"
   ]
  },
  {
   "cell_type": "code",
   "execution_count": 48,
   "id": "0b524fe2",
   "metadata": {},
   "outputs": [
    {
     "name": "stdout",
     "output_type": "stream",
     "text": [
      "[('The', 'O'), ('global', 'O'), ('map', 'O'), ('shows', 'O'), ('sea', 'O'), ('temperature', 'O'), ('rises', 'O'), ('of', 'O'), ('0.5', 'O'), ('to', 'O'), ('1', 'O'), ('degree', 'O'), ('Celsius', 'O'), (';', 'O'), ('land', 'O'), ('temperature', 'O'), ('rises', 'O'), ('of', 'O'), ('1', 'O'), ('to', 'O'), ('2', 'O'), ('degree', 'O'), ('Celsius', 'O'), (';', 'O'), ('and', 'O'), ('Arctic', 'LOCATION'), ('temperature', 'O'), ('rises', 'O'), ('of', 'O'), ('up', 'O'), ('to', 'O'), ('4', 'O'), ('degrees', 'O'), ('Celsius', 'O'), ('.', 'O')]\n"
     ]
    }
   ],
   "source": [
    "stanford_ner(sentence)"
   ]
  },
  {
   "cell_type": "code",
   "execution_count": 49,
   "id": "00f6a6d4",
   "metadata": {},
   "outputs": [
    {
     "data": {
      "text/plain": [
       "[<generator object extract_ne.<locals>.<genexpr> at 0x12bbbd510>,\n",
       " <generator object extract_ne.<locals>.<genexpr> at 0x12bbbd580>,\n",
       " <generator object extract_ne.<locals>.<genexpr> at 0x12bbbd5f0>,\n",
       " <generator object extract_ne.<locals>.<genexpr> at 0x12bbbd660>]"
      ]
     },
     "execution_count": 49,
     "metadata": {},
     "output_type": "execute_result"
    }
   ],
   "source": [
    "extract_ne(sentence)"
   ]
  },
  {
   "cell_type": "code",
   "execution_count": 36,
   "id": "494d7276",
   "metadata": {},
   "outputs": [
    {
     "name": "stdout",
     "output_type": "stream",
     "text": [
      "(NE Celsius/NNP)\n",
      "(NE Celsius/NNP)\n",
      "(NE Arctic/NNP)\n",
      "(NE Celsius/NNP)\n"
     ]
    }
   ],
   "source": [
    "for t in tree:\n",
    "    if hasattr(t, \"label\") and t.label() == \"NE\":\n",
    "        print(t[])"
   ]
  },
  {
   "cell_type": "code",
   "execution_count": null,
   "id": "8729286e",
   "metadata": {},
   "outputs": [],
   "source": [
    "\" \".join(i for i in t)"
   ]
  }
 ],
 "metadata": {
  "kernelspec": {
   "display_name": "Python 3 (ipykernel)",
   "language": "python",
   "name": "python3"
  },
  "language_info": {
   "codemirror_mode": {
    "name": "ipython",
    "version": 3
   },
   "file_extension": ".py",
   "mimetype": "text/x-python",
   "name": "python",
   "nbconvert_exporter": "python",
   "pygments_lexer": "ipython3",
   "version": "3.9.1"
  }
 },
 "nbformat": 4,
 "nbformat_minor": 5
}
