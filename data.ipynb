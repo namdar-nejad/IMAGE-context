{
 "cells": [
  {
   "cell_type": "code",
   "execution_count": 1,
   "id": "2e38bdac",
   "metadata": {},
   "outputs": [],
   "source": [
    "# import sys\n",
    "# !{sys.executable} -m pip install --user Html2Image"
   ]
  },
  {
   "cell_type": "code",
   "execution_count": 2,
   "id": "dd3e4766",
   "metadata": {},
   "outputs": [],
   "source": [
    "FILE_DIR = './dataset'\n",
    "DATA_DIR = './collected_data'"
   ]
  },
  {
   "cell_type": "code",
   "execution_count": 3,
   "id": "85e31608",
   "metadata": {},
   "outputs": [],
   "source": [
    "import os\n",
    "import json\n",
    "import imgkit\n",
    "import base64\n",
    "from IPython.core.display import display, HTML\n",
    "from html2image import Html2Image\n",
    "from bs4 import BeautifulSoup"
   ]
  },
  {
   "cell_type": "code",
   "execution_count": 4,
   "id": "80299b25",
   "metadata": {},
   "outputs": [],
   "source": [
    "def get_files():\n",
    "    path = os.path.abspath(FILE_DIR)\n",
    "    return os.listdir(path)"
   ]
  },
  {
   "cell_type": "code",
   "execution_count": 5,
   "id": "4b454316",
   "metadata": {},
   "outputs": [],
   "source": [
    "def get_json(file_name):\n",
    "    file_path = os.path.abspath(FILE_DIR+\"/\"+file_name)\n",
    "    \n",
    "    with open(file_path, \"r\") as file:\n",
    "        return json.load(file)"
   ]
  },
  {
   "cell_type": "code",
   "execution_count": 6,
   "id": "938c15f2",
   "metadata": {},
   "outputs": [],
   "source": [
    "def get_alt(json_):\n",
    "    context = json_['context']\n",
    "    soup = BeautifulSoup(context, 'html.parser')\n",
    "    alt = soup.find('img', alt=True)['alt']\n",
    "    return alt"
   ]
  },
  {
   "cell_type": "code",
   "execution_count": 7,
   "id": "f6c4099f",
   "metadata": {},
   "outputs": [],
   "source": [
    "def get_img_html(img_):\n",
    "    return f\"<html> <body> <img src=\\\"{img_}\\\"> </body> </html>\"\n",
    "\n",
    "def display_img(html_):\n",
    "    display(HTML(html_))\n",
    "    \n",
    "def save_pic(html_, name, path = f\"{DATA_DIR}/images/\"):\n",
    "    hti = Html2Image()\n",
    "    path_ = os.path.abspath(path)\n",
    "    hti._output_path = path_\n",
    "    hti.screenshot(html_str=html_, save_as=name)"
   ]
  },
  {
   "cell_type": "code",
   "execution_count": 23,
   "id": "f7723649",
   "metadata": {},
   "outputs": [],
   "source": [
    "def validateJSON(path):\n",
    "    return path.endswith(\".json\")"
   ]
  },
  {
   "cell_type": "code",
   "execution_count": 29,
   "id": "4b71c2ed",
   "metadata": {},
   "outputs": [],
   "source": [
    "def go(dir_=FILE_DIR):\n",
    "    files = get_files()\n",
    "    captions = {}\n",
    "    \n",
    "    for file, ind in zip(get_files(), range(1, len(files)+1)):\n",
    "        print(f\"{ind}: {file} {validateJSON(file)}\")\n",
    "        \n",
    "        if validateJSON(file):\n",
    "            name_ = f'image{ind}.jpg'\n",
    "            json_ = get_json(file)\n",
    "            html_ = get_img_html(json_['graphic'])\n",
    "            txt = get_alt(json_)\n",
    "            \n",
    "            if len(txt) > 5:\n",
    "                captions[name_] = txt\n",
    "                save_pic(html_, name_)\n",
    "    \n",
    "    with open(f\"{DATA_DIR}/captions.json\", \"w\") as outfile:\n",
    "        json.dump(captions, outfile)"
   ]
  },
  {
   "cell_type": "code",
   "execution_count": 28,
   "id": "54cdf6e7",
   "metadata": {},
   "outputs": [
    {
     "name": "stdout",
     "output_type": "stream",
     "text": [
      "7cb6c6e7-dd98-45cd-83a9-f07e54b8430d.json\n",
      "True\n"
     ]
    },
    {
     "name": "stderr",
     "output_type": "stream",
     "text": [
      "[0924/161238.773957:ERROR:command_buffer_proxy_impl.cc(128)] ContextResult::kTransientFailure: Failed to send GpuControl.CreateCommandBuffer.\n",
      "[0924/161241.329573:INFO:headless_shell.cc(660)] Written to file /Users/namdar/Desktop/All/code/collected_data/images/image1.jpg.\n"
     ]
    },
    {
     "name": "stdout",
     "output_type": "stream",
     "text": [
      "4a56d77c-0742-4fe2-9697-8c6d6d25644e.json\n",
      "True\n",
      "e6a7ecd9-6ab5-480e-806d-a73c478f1288.json\n",
      "True\n",
      "8b26a473-a415-483c-9e5d-4f6f88c9eae8.json\n",
      "True\n"
     ]
    },
    {
     "name": "stderr",
     "output_type": "stream",
     "text": [
      "[0924/161242.115657:ERROR:command_buffer_proxy_impl.cc(128)] ContextResult::kTransientFailure: Failed to send GpuControl.CreateCommandBuffer.\n",
      "[0924/161243.602500:INFO:headless_shell.cc(660)] Written to file /Users/namdar/Desktop/All/code/collected_data/images/image4.jpg.\n"
     ]
    },
    {
     "name": "stdout",
     "output_type": "stream",
     "text": [
      "96cec80b-577f-4ba6-a5be-4b38f8aaca15.json\n",
      "True\n",
      "327bddeb-d0c0-495e-a195-cdb40522586b.json\n",
      "True\n",
      "970da1b9-d547-4683-b829-c075d83d75cc.json\n",
      "True\n"
     ]
    },
    {
     "name": "stderr",
     "output_type": "stream",
     "text": [
      "[0924/161244.361024:ERROR:command_buffer_proxy_impl.cc(128)] ContextResult::kTransientFailure: Failed to send GpuControl.CreateCommandBuffer.\n",
      "[0924/161246.524548:INFO:headless_shell.cc(660)] Written to file /Users/namdar/Desktop/All/code/collected_data/images/image7.jpg.\n"
     ]
    },
    {
     "name": "stdout",
     "output_type": "stream",
     "text": [
      ".DS_Store\n",
      "False\n",
      "be87d70a-8905-4733-8d17-a735e62b7e5f.json\n",
      "True\n"
     ]
    },
    {
     "name": "stderr",
     "output_type": "stream",
     "text": [
      "[0924/161247.381656:ERROR:command_buffer_proxy_impl.cc(128)] ContextResult::kTransientFailure: Failed to send GpuControl.CreateCommandBuffer.\n",
      "[0924/161249.464847:INFO:headless_shell.cc(660)] Written to file /Users/namdar/Desktop/All/code/collected_data/images/image9.jpg.\n"
     ]
    },
    {
     "name": "stdout",
     "output_type": "stream",
     "text": [
      "02eaf100-c5a5-435e-970e-2b5b744c7267.json\n",
      "True\n",
      "ff785cac-9b19-4a8a-8b87-d745032480cb.json\n",
      "True\n"
     ]
    },
    {
     "name": "stderr",
     "output_type": "stream",
     "text": [
      "[0924/161250.436104:ERROR:command_buffer_proxy_impl.cc(128)] ContextResult::kTransientFailure: Failed to send GpuControl.CreateCommandBuffer.\n",
      "[0924/161254.794423:INFO:headless_shell.cc(660)] Written to file /Users/namdar/Desktop/All/code/collected_data/images/image11.jpg.\n"
     ]
    },
    {
     "name": "stdout",
     "output_type": "stream",
     "text": [
      "666b980b-d50d-4f96-bba4-dc2ce6587bde.json\n",
      "True\n",
      "e61ac4a5-b585-4d09-b3fa-b3d5872c8882.json\n",
      "True\n",
      "ba1ab2df-570d-47fe-a4b6-add92ddba733.json\n",
      "True\n",
      "ad7c4da1-b03f-43ae-b1a7-2194b091ea39.json\n",
      "True\n",
      "62be4387-bb32-42ae-9012-609732e70a05.json\n",
      "True\n",
      "090471da-1103-419f-a49d-020224dc159b.json\n",
      "True\n"
     ]
    },
    {
     "name": "stderr",
     "output_type": "stream",
     "text": [
      "[0924/161255.741963:ERROR:command_buffer_proxy_impl.cc(128)] ContextResult::kTransientFailure: Failed to send GpuControl.CreateCommandBuffer.\n",
      "[0924/161300.290812:INFO:headless_shell.cc(660)] Written to file /Users/namdar/Desktop/All/code/collected_data/images/image17.jpg.\n"
     ]
    },
    {
     "name": "stdout",
     "output_type": "stream",
     "text": [
      "d10edffb-b188-4e16-b9d2-57f98ac9b9bd.json\n",
      "True\n",
      "cba29e66-34b2-4883-8dae-8d6e5d60a18d.json\n",
      "True\n",
      "b819e8a4-26b4-4ed2-8dc6-d7f07969024b.json\n",
      "True\n",
      "1238c580-d4ee-40c0-b048-25878f628c30.json\n",
      "True\n"
     ]
    },
    {
     "name": "stderr",
     "output_type": "stream",
     "text": [
      "[0924/161301.246910:ERROR:command_buffer_proxy_impl.cc(128)] ContextResult::kTransientFailure: Failed to send GpuControl.CreateCommandBuffer.\n",
      "[0924/161302.834726:INFO:headless_shell.cc(660)] Written to file /Users/namdar/Desktop/All/code/collected_data/images/image21.jpg.\n"
     ]
    },
    {
     "name": "stdout",
     "output_type": "stream",
     "text": [
      "4921fc43-4b87-4f70-bcd2-8fdd044440a2.json\n",
      "True\n",
      "65b71c0c-d66b-421b-a1b6-11268cd42099.json\n",
      "True\n",
      "d38dc93c-e186-455a-9067-a6524e13384a.json\n",
      "True\n"
     ]
    },
    {
     "name": "stderr",
     "output_type": "stream",
     "text": [
      "[0924/161303.919693:ERROR:command_buffer_proxy_impl.cc(128)] ContextResult::kTransientFailure: Failed to send GpuControl.CreateCommandBuffer.\n",
      "[0924/161308.581860:INFO:headless_shell.cc(660)] Written to file /Users/namdar/Desktop/All/code/collected_data/images/image24.jpg.\n"
     ]
    },
    {
     "name": "stdout",
     "output_type": "stream",
     "text": [
      "0e05e77c-971d-4937-a189-a631c94ff7dc.json\n",
      "True\n"
     ]
    },
    {
     "name": "stderr",
     "output_type": "stream",
     "text": [
      "[0924/161309.539956:ERROR:command_buffer_proxy_impl.cc(128)] ContextResult::kTransientFailure: Failed to send GpuControl.CreateCommandBuffer.\n",
      "[0924/161310.706782:INFO:headless_shell.cc(660)] Written to file /Users/namdar/Desktop/All/code/collected_data/images/image25.jpg.\n"
     ]
    },
    {
     "name": "stdout",
     "output_type": "stream",
     "text": [
      "37d7ba0e-b6a0-441e-b9ac-b6557efec421.json\n",
      "True\n",
      "a5603d6a-add9-4e3d-99ed-1b5cd8dae96f.json\n",
      "True\n",
      "a95a9da6-bb2b-412d-86a3-2640c77e759c.json\n",
      "True\n",
      "ff57e817-bced-4d1f-abea-0ce7a2af0bbf.json\n",
      "True\n",
      "65de160b-d790-434e-9e8b-71c526ad7c83.json\n",
      "True\n",
      "d337f1cc-e0c0-409c-b974-8e29d354db8b.json\n",
      "True\n",
      "7252db69-2403-4299-84ae-098823b2c636.json\n",
      "True\n"
     ]
    },
    {
     "name": "stderr",
     "output_type": "stream",
     "text": [
      "[0924/161311.628614:ERROR:command_buffer_proxy_impl.cc(128)] ContextResult::kTransientFailure: Failed to send GpuControl.CreateCommandBuffer.\n",
      "[0924/161313.084358:INFO:headless_shell.cc(660)] Written to file /Users/namdar/Desktop/All/code/collected_data/images/image32.jpg.\n"
     ]
    },
    {
     "name": "stdout",
     "output_type": "stream",
     "text": [
      "b6f5586a-e137-4935-adce-be84ad4403b1.json\n",
      "True\n"
     ]
    },
    {
     "name": "stderr",
     "output_type": "stream",
     "text": [
      "[0924/161313.853036:ERROR:command_buffer_proxy_impl.cc(128)] ContextResult::kTransientFailure: Failed to send GpuControl.CreateCommandBuffer.\n",
      "[0924/161314.798865:INFO:headless_shell.cc(660)] Written to file /Users/namdar/Desktop/All/code/collected_data/images/image33.jpg.\n"
     ]
    },
    {
     "name": "stdout",
     "output_type": "stream",
     "text": [
      "22a4456a-0c5d-42e3-b973-7b8d6b3aec33.json\n",
      "True\n"
     ]
    },
    {
     "name": "stderr",
     "output_type": "stream",
     "text": [
      "[0924/161315.596621:ERROR:command_buffer_proxy_impl.cc(128)] ContextResult::kTransientFailure: Failed to send GpuControl.CreateCommandBuffer.\n",
      "[0924/161317.163651:INFO:headless_shell.cc(660)] Written to file /Users/namdar/Desktop/All/code/collected_data/images/image34.jpg.\n"
     ]
    }
   ],
   "source": [
    "go()"
   ]
  },
  {
   "cell_type": "code",
   "execution_count": null,
   "id": "473fb5db",
   "metadata": {},
   "outputs": [],
   "source": []
  },
  {
   "cell_type": "code",
   "execution_count": null,
   "id": "b85f6249",
   "metadata": {},
   "outputs": [],
   "source": []
  }
 ],
 "metadata": {
  "kernelspec": {
   "display_name": "Python 3 (ipykernel)",
   "language": "python",
   "name": "python3"
  },
  "language_info": {
   "codemirror_mode": {
    "name": "ipython",
    "version": 3
   },
   "file_extension": ".py",
   "mimetype": "text/x-python",
   "name": "python",
   "nbconvert_exporter": "python",
   "pygments_lexer": "ipython3",
   "version": "3.9.1"
  }
 },
 "nbformat": 4,
 "nbformat_minor": 5
}
