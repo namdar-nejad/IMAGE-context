{
 "cells": [
  {
   "cell_type": "code",
   "execution_count": 1,
   "id": "3e5ff704",
   "metadata": {},
   "outputs": [],
   "source": [
    "import nltk\n",
    "from nltk.tokenize import word_tokenize\n",
    "from nltk.tag.stanford import StanfordNERTagger\n",
    "from nltk.tag import pos_tag"
   ]
  },
  {
   "cell_type": "code",
   "execution_count": 2,
   "id": "e3c466b3",
   "metadata": {},
   "outputs": [],
   "source": [
    "jar = './stanford-ner/stanford-ner.jar'\n",
    "model = './stanford-ner/ner-model-english.ser.gz'"
   ]
  },
  {
   "cell_type": "code",
   "execution_count": 3,
   "id": "2c7ed780",
   "metadata": {},
   "outputs": [
    {
     "name": "stderr",
     "output_type": "stream",
     "text": [
      "[nltk_data] Downloading package punkt to /Users/namdar/nltk_data...\n",
      "[nltk_data]   Package punkt is already up-to-date!\n",
      "[nltk_data] Downloading package stopwords to\n",
      "[nltk_data]     /Users/namdar/nltk_data...\n",
      "[nltk_data]   Package stopwords is already up-to-date!\n",
      "[nltk_data] Downloading package averaged_perceptron_tagger to\n",
      "[nltk_data]     /Users/namdar/nltk_data...\n",
      "[nltk_data]   Package averaged_perceptron_tagger is already up-to-\n",
      "[nltk_data]       date!\n",
      "[nltk_data] Downloading package maxent_ne_chunker to\n",
      "[nltk_data]     /Users/namdar/nltk_data...\n",
      "[nltk_data]   Package maxent_ne_chunker is already up-to-date!\n",
      "[nltk_data] Downloading package words to /Users/namdar/nltk_data...\n",
      "[nltk_data]   Package words is already up-to-date!\n"
     ]
    },
    {
     "data": {
      "text/plain": [
       "True"
      ]
     },
     "execution_count": 3,
     "metadata": {},
     "output_type": "execute_result"
    }
   ],
   "source": [
    "nltk.download('punkt')\n",
    "nltk.download('stopwords')\n",
    "nltk.download('averaged_perceptron_tagger')\n",
    "nltk.download('maxent_ne_chunker')\n",
    "nltk.download('words')"
   ]
  },
  {
   "cell_type": "code",
   "execution_count": 4,
   "id": "b0cc6aa9",
   "metadata": {},
   "outputs": [],
   "source": [
    "def preprocess(sentence):\n",
    "    sentence = nltk.word_tokenize(sentence)\n",
    "    sentence = nltk.pos_tag(sentence)\n",
    "    return sentence"
   ]
  },
  {
   "cell_type": "code",
   "execution_count": 5,
   "id": "e0695059",
   "metadata": {},
   "outputs": [],
   "source": [
    "# for sent in nltk.sent_tokenize(sentence):\n",
    "#     for chunk in nltk.ne_chunk(nltk.pos_tag(nltk.word_tokenize(sent))):\n",
    "#          print(chunk)"
   ]
  },
  {
   "cell_type": "code",
   "execution_count": 6,
   "id": "fbc3a688",
   "metadata": {},
   "outputs": [],
   "source": [
    "def extract_ne(sentence):\n",
    "    words = word_tokenize(sentence)\n",
    "    tags = nltk.pos_tag(words)\n",
    "    tree = nltk.ne_chunk(tags, binary=True)\n",
    "    rtn  = []\n",
    "    \n",
    "    for t in tree:\n",
    "        if hasattr(t, \"label\") and t.label() == \"NE\":\n",
    "             rtn.append(t)\n",
    "    \n",
    "    return rtn"
   ]
  },
  {
   "cell_type": "code",
   "execution_count": 7,
   "id": "a5e8467d",
   "metadata": {},
   "outputs": [],
   "source": [
    "captions = {\"image1\": \"Coronaviruses 004 lores.jpg\", \"image2\": \"Colour-coded map of North America showing the distribution of North American language families north of Mexico\", \"image5\": \"Refer to caption\", \"image8\": \"Map showing Canada divided into different ecozones\", \"image12\": \"Tidal flooding. Sea-level rise increases flooding in low-lying coastal regions. Shown: Venice, Italy (2004).[210]\", \"image14\": \"refer to caption\", \"image23\": \"Canadian Delegation to the United Nations seated around conference table\", \"image24\": \"2020 Democratic presidential primary and caucus calendar rescheduled.svg\", \"image25\": \"Star Wars The Rise of Skywalker poster.jpg\", \"image26\": \"Aerial view of the Cliff Palace\", \"image32\": \"Muslim Youth League CAA, NRC Protest in Kerala 2019.jpg\", \"image33\": \"49ers uniforms 18.png\", \"image39\": \"The Grand Concourse in the Bronx, foreground, with Manhattan in the background in February 2018\", \"image41\": \"The YouTube logo is made of a red round-rectangular box with a white \\\"play\\\" button inside and the word \\\"YouTube\\\" written in black.\", \"image45\": \"Musk shakes hands with NASA Administrator Charles Bolden before a SpaceX Dragon capsule\", \"image46\": \"Canadian Senate chamber long hall with two opposing banks of seats with historical paintings\", \"image53\": \"The graph from 1880 to 2020 shows natural drivers exhibiting fluctuations of about 0.3 degrees Celsius. Human drivers steadily increase by 0.3 degrees over 100 years to 1980, then steeply by 0.8 degrees more over the past 40 years.\", \"image56\": \"A building with a central clock tower rising from a block\", \"image58\": \"Environmental migration. Sparser rainfall leads to desertification that harms agriculture and can displace populations. Shown: Telly, Mali (2008).[208]\", \"image60\": \"Coca-Cola bottle - see \\\"Contour bottle design\\\" section\", \"image61\": \"Each letter of \\\"Google\\\" is colored (from left to right) in blue, red, yellow, blue, green, and red.\", \"image62\": \"A corrugated silver metal subway train sits with its doors open in a station. Its rollsign reads \\\"0 Local / To Old Gotham all times / Downtown & Tricorner\\\".\", \"image63\": \"First Lady Michelle Obama, Mel Brooks, Dave Brubeck, Grace Bumbry, De Niro, Bruce Springsteen, and President Barack Obama\", \"image64\": \"Photograph of a large area of forest. The green trees are interspersed with large patches of damaged or dead trees turning purple-brown and light red.\", \"image65\": \"see caption\", \"image70\": \"Uniform Set of the Kansas City Chiefs.svg\", \"image72\": \"The Joker dances on a set of stairs. Below him are the words \\\"Joaquin Phoenix\\\", \\\"A Todd Phillips film\\\", \\\"Joker\\\", the billing block, and \\\"October 4\\\".\", \"image76\": \"Illustration of a SARS-CoV-2 virion\", \"image77\": \"The global map shows sea temperature rises of 0.5 to 1 degree Celsius; land temperature rises of 1 to 2 degree Celsius; and Arctic temperature rises of up to 4 degrees Celsius.\", \"image78\": \"Olympic rings.svg\", \"image84\": \"A map showing five boroughs in different colors.\", \"image90\": \"A large facade of a building\", \"image91\": \"See caption\", \"image94\": \"refer to caption\", \"image97\": \"Amazon.es fulfillment center in San Fernando de Henares, Spain\", \"image100\": \"An incomplete sphere made of large, white jigsaw puzzle pieces. Each puzzle piece contains one\"}"
   ]
  },
  {
   "cell_type": "code",
   "execution_count": 19,
   "id": "a3ebffcc",
   "metadata": {},
   "outputs": [],
   "source": [
    "def stanford_ner(sentence, only_ner = True):\n",
    "    \n",
    "    # Prepare NER tagger with english model\n",
    "    ner_tagger = StanfordNERTagger(model, jar, encoding='utf8')\n",
    "\n",
    "    # Tokenize: Split sentence into words\n",
    "    words = nltk.word_tokenize(sentence)\n",
    "\n",
    "    # Run NER tagger on words\n",
    "    words =  ner_tagger.tag(words)\n",
    "    \n",
    "    if only_ner:\n",
    "        rtn  = []\n",
    "        \n",
    "        for i in words:\n",
    "            if len(i[1]) > 4:\n",
    "                rtn.append(i)\n",
    "                \n",
    "        return rtn\n",
    "    \n",
    "    return words"
   ]
  },
  {
   "cell_type": "code",
   "execution_count": 20,
   "id": "c490cf5c",
   "metadata": {},
   "outputs": [],
   "source": [
    "sentence = captions['image77']"
   ]
  },
  {
   "cell_type": "code",
   "execution_count": 21,
   "id": "0b524fe2",
   "metadata": {},
   "outputs": [
    {
     "data": {
      "text/plain": [
       "[('Arctic', 'LOCATION')]"
      ]
     },
     "execution_count": 21,
     "metadata": {},
     "output_type": "execute_result"
    }
   ],
   "source": [
    "stanford_ner(sentence)"
   ]
  },
  {
   "cell_type": "code",
   "execution_count": 22,
   "id": "00f6a6d4",
   "metadata": {},
   "outputs": [
    {
     "data": {
      "text/plain": [
       "[Tree('NE', [('Celsius', 'NNP')]),\n",
       " Tree('NE', [('Celsius', 'NNP')]),\n",
       " Tree('NE', [('Arctic', 'NNP')]),\n",
       " Tree('NE', [('Celsius', 'NNP')])]"
      ]
     },
     "execution_count": 22,
     "metadata": {},
     "output_type": "execute_result"
    }
   ],
   "source": [
    "extract_ne(sentence)"
   ]
  },
  {
   "cell_type": "code",
   "execution_count": 23,
   "id": "7508000c",
   "metadata": {},
   "outputs": [
    {
     "name": "stdout",
     "output_type": "stream",
     "text": [
      "\n",
      "\n",
      "image1 Coronaviruses 004 lores.jpg\n",
      "NLTK:  []\n",
      "Stanford:  []\n",
      "\n",
      "\n",
      "image2 Colour-coded map of North America showing the distribution of North American language families north of Mexico\n",
      "NLTK:  [Tree('NE', [('North', 'NNP'), ('America', 'NNP')]), Tree('NE', [('North', 'JJ')]), Tree('NE', [('American', 'JJ')]), Tree('NE', [('Mexico', 'NNP')])]\n",
      "Stanford:  [('North', 'LOCATION'), ('America', 'LOCATION'), ('Mexico', 'LOCATION')]\n",
      "\n",
      "\n",
      "image5 Refer to caption\n",
      "NLTK:  [Tree('NE', [('Refer', 'NN')])]\n",
      "Stanford:  []\n",
      "\n",
      "\n",
      "image8 Map showing Canada divided into different ecozones\n",
      "NLTK:  [Tree('NE', [('Canada', 'NNP')])]\n",
      "Stanford:  [('Canada', 'LOCATION')]\n",
      "\n",
      "\n",
      "image12 Tidal flooding. Sea-level rise increases flooding in low-lying coastal regions. Shown: Venice, Italy (2004).[210]\n",
      "NLTK:  [Tree('NE', [('Tidal', 'NNP')]), Tree('NE', [('Italy', 'NNP')])]\n",
      "Stanford:  [('Venice', 'LOCATION'), ('Italy', 'LOCATION')]\n",
      "\n",
      "\n",
      "image14 refer to caption\n",
      "NLTK:  []\n",
      "Stanford:  []\n",
      "\n",
      "\n",
      "image23 Canadian Delegation to the United Nations seated around conference table\n",
      "NLTK:  [Tree('NE', [('Canadian', 'JJ'), ('Delegation', 'NNP')]), Tree('NE', [('United', 'NNP'), ('Nations', 'NNPS')])]\n",
      "Stanford:  [('United', 'ORGANIZATION'), ('Nations', 'ORGANIZATION')]\n",
      "\n",
      "\n",
      "image24 2020 Democratic presidential primary and caucus calendar rescheduled.svg\n",
      "NLTK:  []\n",
      "Stanford:  []\n",
      "\n",
      "\n",
      "image25 Star Wars The Rise of Skywalker poster.jpg\n",
      "NLTK:  [Tree('NE', [('Star', 'NNP')]), Tree('NE', [('Skywalker', 'NNP')])]\n",
      "Stanford:  []\n",
      "\n",
      "\n",
      "image26 Aerial view of the Cliff Palace\n",
      "NLTK:  [Tree('NE', [('Aerial', 'JJ')]), Tree('NE', [('Cliff', 'NNP'), ('Palace', 'NNP')])]\n",
      "Stanford:  []\n",
      "\n",
      "\n",
      "image32 Muslim Youth League CAA, NRC Protest in Kerala 2019.jpg\n",
      "NLTK:  [Tree('NE', [('Muslim', 'NNP'), ('Youth', 'NNP'), ('League', 'NNP'), ('CAA', 'NNP')]), Tree('NE', [('NRC', 'NNP'), ('Protest', 'NNP')])]\n",
      "Stanford:  [('Muslim', 'ORGANIZATION'), ('Youth', 'ORGANIZATION'), ('League', 'ORGANIZATION'), ('CAA', 'ORGANIZATION'), ('NRC', 'ORGANIZATION'), ('Kerala', 'LOCATION')]\n",
      "\n",
      "\n",
      "image33 49ers uniforms 18.png\n",
      "NLTK:  []\n",
      "Stanford:  []\n",
      "\n",
      "\n",
      "image39 The Grand Concourse in the Bronx, foreground, with Manhattan in the background in February 2018\n",
      "NLTK:  [Tree('NE', [('Grand', 'NNP'), ('Concourse', 'NNP')]), Tree('NE', [('Bronx', 'NNP')]), Tree('NE', [('Manhattan', 'NNP')])]\n",
      "Stanford:  [('Bronx', 'LOCATION'), ('Manhattan', 'LOCATION')]\n",
      "\n",
      "\n",
      "image41 The YouTube logo is made of a red round-rectangular box with a white \"play\" button inside and the word \"YouTube\" written in black.\n",
      "NLTK:  [Tree('NE', [('YouTube', 'NNP')])]\n",
      "Stanford:  [('YouTube', 'ORGANIZATION')]\n",
      "\n",
      "\n",
      "image45 Musk shakes hands with NASA Administrator Charles Bolden before a SpaceX Dragon capsule\n",
      "NLTK:  [Tree('NE', [('Musk', 'NNP')]), Tree('NE', [('NASA', 'NNP'), ('Administrator', 'NNP'), ('Charles', 'NNP'), ('Bolden', 'NNP')]), Tree('NE', [('SpaceX', 'NNP'), ('Dragon', 'NNP')])]\n",
      "Stanford:  [('Musk', 'PERSON'), ('NASA', 'ORGANIZATION'), ('Charles', 'PERSON'), ('Bolden', 'PERSON')]\n",
      "\n",
      "\n",
      "image46 Canadian Senate chamber long hall with two opposing banks of seats with historical paintings\n",
      "NLTK:  [Tree('NE', [('Canadian', 'JJ')]), Tree('NE', [('Senate', 'NNP')])]\n",
      "Stanford:  [('Senate', 'ORGANIZATION')]\n",
      "\n",
      "\n",
      "image53 The graph from 1880 to 2020 shows natural drivers exhibiting fluctuations of about 0.3 degrees Celsius. Human drivers steadily increase by 0.3 degrees over 100 years to 1980, then steeply by 0.8 degrees more over the past 40 years.\n",
      "NLTK:  [Tree('NE', [('Celsius', 'NNP')])]\n",
      "Stanford:  []\n",
      "\n",
      "\n",
      "image56 A building with a central clock tower rising from a block\n",
      "NLTK:  []\n",
      "Stanford:  []\n",
      "\n",
      "\n",
      "image58 Environmental migration. Sparser rainfall leads to desertification that harms agriculture and can displace populations. Shown: Telly, Mali (2008).[208]\n",
      "NLTK:  [Tree('NE', [('Environmental', 'JJ')]), Tree('NE', [('Sparser', 'NNP')]), Tree('NE', [('Mali', 'NNP')])]\n",
      "Stanford:  [('Telly', 'ORGANIZATION'), ('Mali', 'LOCATION')]\n",
      "\n",
      "\n",
      "image60 Coca-Cola bottle - see \"Contour bottle design\" section\n",
      "NLTK:  []\n",
      "Stanford:  [('Coca-Cola', 'ORGANIZATION')]\n",
      "\n",
      "\n",
      "image61 Each letter of \"Google\" is colored (from left to right) in blue, red, yellow, blue, green, and red.\n",
      "NLTK:  []\n",
      "Stanford:  [('Google', 'ORGANIZATION')]\n",
      "\n",
      "\n",
      "image62 A corrugated silver metal subway train sits with its doors open in a station. Its rollsign reads \"0 Local / To Old Gotham all times / Downtown & Tricorner\".\n",
      "NLTK:  [Tree('NE', [('Old', 'NNP'), ('Gotham', 'NNP')])]\n",
      "Stanford:  [('Old', 'LOCATION'), ('Gotham', 'LOCATION')]\n",
      "\n",
      "\n",
      "image63 First Lady Michelle Obama, Mel Brooks, Dave Brubeck, Grace Bumbry, De Niro, Bruce Springsteen, and President Barack Obama\n",
      "NLTK:  [Tree('NE', [('First', 'NNP'), ('Lady', 'NNP'), ('Michelle', 'NNP'), ('Obama', 'NNP')]), Tree('NE', [('Mel', 'NNP'), ('Brooks', 'NNP')]), Tree('NE', [('Dave', 'NNP'), ('Brubeck', 'NNP')]), Tree('NE', [('Grace', 'NNP'), ('Bumbry', 'NNP')]), Tree('NE', [('De', 'NNP'), ('Niro', 'NNP')]), Tree('NE', [('Bruce', 'NNP'), ('Springsteen', 'NNP')]), Tree('NE', [('Barack', 'NNP'), ('Obama', 'NNP')])]\n",
      "Stanford:  [('Michelle', 'PERSON'), ('Obama', 'PERSON'), ('Mel', 'PERSON'), ('Brooks', 'PERSON'), ('Dave', 'PERSON'), ('Brubeck', 'PERSON'), ('Grace', 'PERSON'), ('Bumbry', 'PERSON'), ('De', 'PERSON'), ('Niro', 'PERSON'), ('Bruce', 'PERSON'), ('Springsteen', 'PERSON'), ('Barack', 'PERSON'), ('Obama', 'PERSON')]\n",
      "\n",
      "\n",
      "image64 Photograph of a large area of forest. The green trees are interspersed with large patches of damaged or dead trees turning purple-brown and light red.\n",
      "NLTK:  [Tree('NE', [('Photograph', 'NNP')])]\n",
      "Stanford:  []\n",
      "\n",
      "\n",
      "image65 see caption\n",
      "NLTK:  []\n",
      "Stanford:  []\n",
      "\n",
      "\n",
      "image70 Uniform Set of the Kansas City Chiefs.svg\n",
      "NLTK:  [Tree('NE', [('Uniform', 'NNP'), ('Set', 'NNP')]), Tree('NE', [('Kansas', 'NNP'), ('City', 'NNP')])]\n",
      "Stanford:  [('Kansas', 'LOCATION'), ('City', 'LOCATION')]\n",
      "\n",
      "\n",
      "image72 The Joker dances on a set of stairs. Below him are the words \"Joaquin Phoenix\", \"A Todd Phillips film\", \"Joker\", the billing block, and \"October 4\".\n",
      "NLTK:  []\n",
      "Stanford:  [('Joaquin', 'PERSON'), ('Phoenix', 'PERSON'), ('Todd', 'PERSON'), ('Phillips', 'PERSON')]\n",
      "\n",
      "\n",
      "image76 Illustration of a SARS-CoV-2 virion\n",
      "NLTK:  []\n",
      "Stanford:  []\n",
      "\n",
      "\n",
      "image77 The global map shows sea temperature rises of 0.5 to 1 degree Celsius; land temperature rises of 1 to 2 degree Celsius; and Arctic temperature rises of up to 4 degrees Celsius.\n",
      "NLTK:  [Tree('NE', [('Celsius', 'NNP')]), Tree('NE', [('Celsius', 'NNP')]), Tree('NE', [('Arctic', 'NNP')]), Tree('NE', [('Celsius', 'NNP')])]\n",
      "Stanford:  [('Arctic', 'LOCATION')]\n",
      "\n",
      "\n",
      "image78 Olympic rings.svg\n",
      "NLTK:  []\n",
      "Stanford:  []\n",
      "\n",
      "\n",
      "image84 A map showing five boroughs in different colors.\n",
      "NLTK:  []\n",
      "Stanford:  []\n",
      "\n",
      "\n",
      "image90 A large facade of a building\n",
      "NLTK:  []\n",
      "Stanford:  []\n",
      "\n",
      "\n",
      "image91 See caption\n",
      "NLTK:  []\n",
      "Stanford:  []\n",
      "\n",
      "\n",
      "image94 refer to caption\n",
      "NLTK:  []\n",
      "Stanford:  []\n",
      "\n",
      "\n",
      "image97 Amazon.es fulfillment center in San Fernando de Henares, Spain\n",
      "NLTK:  [Tree('NE', [('San', 'NNP'), ('Fernando', 'NNP')]), Tree('NE', [('Henares', 'NNP')]), Tree('NE', [('Spain', 'NNP')])]\n",
      "Stanford:  [('San', 'LOCATION'), ('Fernando', 'LOCATION'), ('de', 'LOCATION'), ('Henares', 'LOCATION'), ('Spain', 'LOCATION')]\n",
      "\n",
      "\n",
      "image100 An incomplete sphere made of large, white jigsaw puzzle pieces. Each puzzle piece contains one\n",
      "NLTK:  []\n",
      "Stanford:  []\n"
     ]
    }
   ],
   "source": [
    "for key, value in captions.items():\n",
    "    print('\\n')\n",
    "    print(key, value)\n",
    "    print(\"NLTK: \", extract_ne(value))\n",
    "    print(\"Stanford: \", stanford_ner(value))"
   ]
  },
  {
   "cell_type": "code",
   "execution_count": null,
   "id": "5375329f",
   "metadata": {},
   "outputs": [],
   "source": []
  }
 ],
 "metadata": {
  "kernelspec": {
   "display_name": "Python 3 (ipykernel)",
   "language": "python",
   "name": "python3"
  },
  "language_info": {
   "codemirror_mode": {
    "name": "ipython",
    "version": 3
   },
   "file_extension": ".py",
   "mimetype": "text/x-python",
   "name": "python",
   "nbconvert_exporter": "python",
   "pygments_lexer": "ipython3",
   "version": "3.9.1"
  }
 },
 "nbformat": 4,
 "nbformat_minor": 5
}
