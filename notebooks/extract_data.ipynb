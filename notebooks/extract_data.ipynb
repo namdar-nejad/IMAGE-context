{
 "cells": [
  {
   "cell_type": "code",
   "execution_count": 1,
   "id": "2e38bdac",
   "metadata": {},
   "outputs": [],
   "source": [
    "# import sys\n",
    "# !{sys.executable} -m pip install --user Html2Image"
   ]
  },
  {
   "cell_type": "code",
   "execution_count": 2,
   "id": "85e31608",
   "metadata": {},
   "outputs": [],
   "source": [
    "import os\n",
    "import json\n",
    "import imgkit\n",
    "import base64\n",
    "import shutil\n",
    "import logging\n",
    "from IPython.core.display import display, HTML\n",
    "from html2image import Html2Image\n",
    "from bs4 import BeautifulSoup"
   ]
  },
  {
   "cell_type": "code",
   "execution_count": 3,
   "id": "dd3e4766",
   "metadata": {},
   "outputs": [],
   "source": [
    "# default paths:\n",
    "RAW_DIR = './dataset'            # dir holding the raw data\n",
    "OUTPUT_DIR = './collected_data'  # dir holding the image and context should be saved in"
   ]
  },
  {
   "cell_type": "code",
   "execution_count": 4,
   "id": "80299b25",
   "metadata": {},
   "outputs": [],
   "source": [
    "\"\"\"\n",
    "Function to get all the files in a given dir\n",
    ":my_dir: the dir to check\n",
    "\"\"\"\n",
    "def get_files(my_dir = RAW_DIR):\n",
    "    path = os.path.abspath(my_dir)\n",
    "    return os.listdir(path)"
   ]
  },
  {
   "cell_type": "code",
   "execution_count": 5,
   "id": "4b454316",
   "metadata": {},
   "outputs": [],
   "source": [
    "\"\"\"\n",
    "Given a directory (contaning raw data files) and a file name, the function will return the json of the file\n",
    ":my_dir: the directory contaning raw data files\n",
    ":file_name: filename of the file to get\n",
    "\"\"\"\n",
    "def get_json(file_name, my_dir = RAW_DIR):\n",
    "    file_path = os.path.abspath(my_dir+\"/\"+file_name)\n",
    "    \n",
    "    with open(file_path, \"r\") as file:\n",
    "        return json.load(file)"
   ]
  },
  {
   "cell_type": "code",
   "execution_count": 6,
   "id": "938c15f2",
   "metadata": {},
   "outputs": [],
   "source": [
    "\"\"\"\n",
    "Given a json from the raw data, this function will extract the alt text\n",
    ":my_json: json from raw data\n",
    "\"\"\"\n",
    "def get_alt(my_json):\n",
    "    context = my_json['context']\n",
    "    soup = BeautifulSoup(context, 'html.parser')\n",
    "    alt = soup.find('img', alt=True)['alt']\n",
    "    return alt"
   ]
  },
  {
   "cell_type": "code",
   "execution_count": 7,
   "id": "f6c4099f",
   "metadata": {},
   "outputs": [],
   "source": [
    "\"\"\"\n",
    "Creates the image from the image data\n",
    ":my_image: image data extracted from the raw data json\n",
    "\"\"\"\n",
    "def get_img_html(my_image):\n",
    "    return f\"<html> <body> <img src=\\\"{my_image}\\\"> </body> </html>\"\n",
    "\n",
    "\"\"\"\n",
    "Given a html image, it dispalys the image\n",
    ":my_html: a given html string\n",
    "\"\"\"\n",
    "def display_img(my_html):\n",
    "    display(HTML(my_html))\n",
    "    \n",
    "\"\"\"\n",
    "Save a html contaning an image to a given location\n",
    ":my_html: the html to save\n",
    ":name: name of the to save\n",
    ":out_dir: directory to save the image to\n",
    "\"\"\"\n",
    "def save_pic(my_html, name, out_dir = OUTPUT_DIR):\n",
    "    path = f\"{out_dir}/images/\"\n",
    "    hti = Html2Image()\n",
    "    path_ = os.path.abspath(path)\n",
    "    hti._output_path = path_\n",
    "    hti.screenshot(html_str=my_html, save_as=name)"
   ]
  },
  {
   "cell_type": "code",
   "execution_count": 8,
   "id": "f7723649",
   "metadata": {},
   "outputs": [],
   "source": [
    "\"\"\"\n",
    "Checks if a given paht is a json file\n",
    ":path: the path to a file to check\n",
    "\"\"\"\n",
    "def validateJSON(path):\n",
    "    return path.endswith(\".json\")\n",
    "\n",
    "\"\"\"\n",
    "Deletes all files in a given directory\n",
    ":mydir: the directory to clear\n",
    "\"\"\"\n",
    "def remove_all_files(mydir):\n",
    "    for f in os.listdir(mydir):\n",
    "        os.remove(os.path.join(mydir, f))"
   ]
  },
  {
   "cell_type": "code",
   "execution_count": 9,
   "id": "3ecc3751",
   "metadata": {},
   "outputs": [],
   "source": [
    "def go(raw_dir=RAW_DIR, output_dir=OUTPUT_DIR):\n",
    "    \n",
    "    # logger\n",
    "    logging.basicConfig(filename=f\"{output_dir}/log.log\", level=logging.INFO, filemode='w')\n",
    "    \n",
    "    image_dir = f\"/{output_dir}/images\"  # dir to save the images\n",
    "    files = get_files(raw_dir)            # list of raw data files\n",
    "    captions = {}                         # dict to store the captions\n",
    "    no_alt, error = 0, 0\n",
    "    \n",
    "    # clear the image dir\n",
    "    if os.path.exists(image_dir):\n",
    "        remove_all_files(image_dir)\n",
    "        \n",
    "    logging.info(f\"[LOG] data_dir = {image_dir}, out_put_dir = {output_dir}\")\n",
    "    logging.info(f\"[LOG] {len(files)} raw data files detected\")\n",
    "    \n",
    "    for file, ind in zip(files, range(1, len(files)+1)):\n",
    "        logging.info(f\"[LOG] working on file {ind}: {file}\")\n",
    "        if validateJSON(file):\n",
    "            try:\n",
    "                name_ = f'image{ind}'\n",
    "                json_ = get_json(file_name = file, my_dir = raw_dir)\n",
    "                html_ = get_img_html(json_['graphic'])\n",
    "                txt = get_alt(json_)\n",
    "                \n",
    "                if len(txt) > 2:\n",
    "                    captions[name_] = txt\n",
    "                    save_pic(html_, name_+\".png\", output_dir)\n",
    "                    logging.info(f\"[COMPLETED] {ind}: {file} no alt txt\")\n",
    "                    \n",
    "                else:\n",
    "                    no_alt += 1\n",
    "                    logging.info(f\"[FAILED] {ind}: {file} no alt txt\")\n",
    "                    \n",
    "            except Exception as e:\n",
    "                error += 1\n",
    "                logging.info(f\"[FAILED] {ind}: {file} ERROR {str(e)}\")\n",
    "        else:\n",
    "            logging.info(f\"[FAILED] {ind}: {file} not a json file\")\n",
    "    \n",
    "    \n",
    "    with open(f\"{output_dir}/captions.json\", \"w\") as outfile:\n",
    "        json.dump(captions, outfile)\n",
    "    \n",
    "    logging.info(f\"total: {len(files)}\")\n",
    "    logging.info(f\"completed: {len(captions)}\")\n",
    "    logging.info(f\"no_alt: {no_alt}\")\n",
    "    logging.info(f\"error: {error}\")\n",
    "    \n",
    "    logging.shutdown()\n"
   ]
  }
 ],
 "metadata": {
  "kernelspec": {
   "display_name": "Python 3 (ipykernel)",
   "language": "python",
   "name": "python3"
  },
  "language_info": {
   "codemirror_mode": {
    "name": "ipython",
    "version": 3
   },
   "file_extension": ".py",
   "mimetype": "text/x-python",
   "name": "python",
   "nbconvert_exporter": "python",
   "pygments_lexer": "ipython3",
   "version": "3.9.1"
  }
 },
 "nbformat": 4,
 "nbformat_minor": 5
}
